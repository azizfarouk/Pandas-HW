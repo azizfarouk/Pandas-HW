{
 "cells": [
  {
   "cell_type": "markdown",
   "metadata": {},
   "source": [
    "### Heroes Of Pymoli Data Analysis\n",
    "* Of the 1163 active players, the vast majority are male (84%). There also exists, a smaller, but notable proportion of female players (14%).\n",
    "\n",
    "* Our peak age demographic falls between 20-24 (44.8%) with secondary groups falling between 15-19 (18.60%) and 25-29 (13.4%).  \n",
    "-----"
   ]
  },
  {
   "cell_type": "markdown",
   "metadata": {},
   "source": [
    "### Note\n",
    "* Instructions have been included for each segment. You do not have to follow them exactly, but they are included to help you think through the steps."
   ]
  },
  {
   "cell_type": "code",
   "execution_count": 1,
   "metadata": {},
   "outputs": [
    {
     "data": {
      "text/html": [
       "<div>\n",
       "<style scoped>\n",
       "    .dataframe tbody tr th:only-of-type {\n",
       "        vertical-align: middle;\n",
       "    }\n",
       "\n",
       "    .dataframe tbody tr th {\n",
       "        vertical-align: top;\n",
       "    }\n",
       "\n",
       "    .dataframe thead th {\n",
       "        text-align: right;\n",
       "    }\n",
       "</style>\n",
       "<table border=\"1\" class=\"dataframe\">\n",
       "  <thead>\n",
       "    <tr style=\"text-align: right;\">\n",
       "      <th></th>\n",
       "      <th>Purchase ID</th>\n",
       "      <th>SN</th>\n",
       "      <th>Age</th>\n",
       "      <th>Gender</th>\n",
       "      <th>Item ID</th>\n",
       "      <th>Item Name</th>\n",
       "      <th>Price</th>\n",
       "    </tr>\n",
       "  </thead>\n",
       "  <tbody>\n",
       "    <tr>\n",
       "      <th>0</th>\n",
       "      <td>0</td>\n",
       "      <td>Lisim78</td>\n",
       "      <td>20</td>\n",
       "      <td>Male</td>\n",
       "      <td>108</td>\n",
       "      <td>Extraction, Quickblade Of Trembling Hands</td>\n",
       "      <td>3.53</td>\n",
       "    </tr>\n",
       "    <tr>\n",
       "      <th>1</th>\n",
       "      <td>1</td>\n",
       "      <td>Lisovynya38</td>\n",
       "      <td>40</td>\n",
       "      <td>Male</td>\n",
       "      <td>143</td>\n",
       "      <td>Frenzied Scimitar</td>\n",
       "      <td>1.56</td>\n",
       "    </tr>\n",
       "    <tr>\n",
       "      <th>2</th>\n",
       "      <td>2</td>\n",
       "      <td>Ithergue48</td>\n",
       "      <td>24</td>\n",
       "      <td>Male</td>\n",
       "      <td>92</td>\n",
       "      <td>Final Critic</td>\n",
       "      <td>4.88</td>\n",
       "    </tr>\n",
       "    <tr>\n",
       "      <th>3</th>\n",
       "      <td>3</td>\n",
       "      <td>Chamassasya86</td>\n",
       "      <td>24</td>\n",
       "      <td>Male</td>\n",
       "      <td>100</td>\n",
       "      <td>Blindscythe</td>\n",
       "      <td>3.27</td>\n",
       "    </tr>\n",
       "    <tr>\n",
       "      <th>4</th>\n",
       "      <td>4</td>\n",
       "      <td>Iskosia90</td>\n",
       "      <td>23</td>\n",
       "      <td>Male</td>\n",
       "      <td>131</td>\n",
       "      <td>Fury</td>\n",
       "      <td>1.44</td>\n",
       "    </tr>\n",
       "  </tbody>\n",
       "</table>\n",
       "</div>"
      ],
      "text/plain": [
       "   Purchase ID             SN  Age Gender  Item ID  \\\n",
       "0            0        Lisim78   20   Male      108   \n",
       "1            1    Lisovynya38   40   Male      143   \n",
       "2            2     Ithergue48   24   Male       92   \n",
       "3            3  Chamassasya86   24   Male      100   \n",
       "4            4      Iskosia90   23   Male      131   \n",
       "\n",
       "                                   Item Name  Price  \n",
       "0  Extraction, Quickblade Of Trembling Hands   3.53  \n",
       "1                          Frenzied Scimitar   1.56  \n",
       "2                               Final Critic   4.88  \n",
       "3                                Blindscythe   3.27  \n",
       "4                                       Fury   1.44  "
      ]
     },
     "execution_count": 1,
     "metadata": {},
     "output_type": "execute_result"
    }
   ],
   "source": [
    "# Dependencies and Setup\n",
    "import pandas as pd\n",
    "import numpy as np\n",
    "\n",
    "# File to Load (Remember to Change These)\n",
    "file_to_load = \"Resources/purchase_data.csv\"\n",
    "\n",
    "# Read Purchasing File and store into Pandas data frame\n",
    "purchase_data = pd.read_csv(file_to_load)\n",
    "\n",
    "purchase_data = pd.read_csv(file_to_load)\n",
    "\n",
    "purchase_data.head()"
   ]
  },
  {
   "cell_type": "markdown",
   "metadata": {},
   "source": [
    "## Player Count"
   ]
  },
  {
   "cell_type": "markdown",
   "metadata": {},
   "source": [
    "* Display the total number of players\n"
   ]
  },
  {
   "cell_type": "code",
   "execution_count": 31,
   "metadata": {},
   "outputs": [
    {
     "data": {
      "text/html": [
       "<div>\n",
       "<style scoped>\n",
       "    .dataframe tbody tr th:only-of-type {\n",
       "        vertical-align: middle;\n",
       "    }\n",
       "\n",
       "    .dataframe tbody tr th {\n",
       "        vertical-align: top;\n",
       "    }\n",
       "\n",
       "    .dataframe thead th {\n",
       "        text-align: right;\n",
       "    }\n",
       "</style>\n",
       "<table border=\"1\" class=\"dataframe\">\n",
       "  <thead>\n",
       "    <tr style=\"text-align: right;\">\n",
       "      <th></th>\n",
       "      <th>Total Players</th>\n",
       "    </tr>\n",
       "  </thead>\n",
       "  <tbody>\n",
       "    <tr>\n",
       "      <th>0</th>\n",
       "      <td>576</td>\n",
       "    </tr>\n",
       "  </tbody>\n",
       "</table>\n",
       "</div>"
      ],
      "text/plain": [
       "   Total Players\n",
       "0            576"
      ]
     },
     "execution_count": 31,
     "metadata": {},
     "output_type": "execute_result"
    }
   ],
   "source": [
    "total_players = purchase_data[\"SN\"].nunique()\n",
    "\n",
    "players_count = pd.DataFrame({\"Total Players\": [total_players]})\n",
    "\n",
    "players_count"
   ]
  },
  {
   "cell_type": "code",
   "execution_count": null,
   "metadata": {},
   "outputs": [],
   "source": []
  },
  {
   "cell_type": "code",
   "execution_count": null,
   "metadata": {},
   "outputs": [],
   "source": []
  },
  {
   "cell_type": "markdown",
   "metadata": {},
   "source": [
    "## Purchasing Analysis (Total)"
   ]
  },
  {
   "cell_type": "markdown",
   "metadata": {},
   "source": [
    "* Run basic calculations to obtain number of unique items, average price, etc.\n",
    "\n",
    "\n",
    "* Create a summary data frame to hold the results\n",
    "\n",
    "\n",
    "* Optional: give the displayed data cleaner formatting\n",
    "\n",
    "\n",
    "* Display the summary data frame\n"
   ]
  },
  {
   "cell_type": "code",
   "execution_count": 32,
   "metadata": {},
   "outputs": [
    {
     "data": {
      "text/html": [
       "<style  type=\"text/css\" >\n",
       "</style><table id=\"T_80ed0fe8_c539_11e9_8ce0_a0999b083af9\" ><thead>    <tr>        <th class=\"blank level0\" ></th>        <th class=\"col_heading level0 col0\" >Number of Unique Items</th>        <th class=\"col_heading level0 col1\" >Average Price</th>        <th class=\"col_heading level0 col2\" >Number of Purchases</th>        <th class=\"col_heading level0 col3\" >Total Revenue</th>    </tr></thead><tbody>\n",
       "                <tr>\n",
       "                        <th id=\"T_80ed0fe8_c539_11e9_8ce0_a0999b083af9level0_row0\" class=\"row_heading level0 row0\" >0</th>\n",
       "                        <td id=\"T_80ed0fe8_c539_11e9_8ce0_a0999b083af9row0_col0\" class=\"data row0 col0\" >183</td>\n",
       "                        <td id=\"T_80ed0fe8_c539_11e9_8ce0_a0999b083af9row0_col1\" class=\"data row0 col1\" >$3.05</td>\n",
       "                        <td id=\"T_80ed0fe8_c539_11e9_8ce0_a0999b083af9row0_col2\" class=\"data row0 col2\" >780</td>\n",
       "                        <td id=\"T_80ed0fe8_c539_11e9_8ce0_a0999b083af9row0_col3\" class=\"data row0 col3\" >$2,379.77</td>\n",
       "            </tr>\n",
       "    </tbody></table>"
      ],
      "text/plain": [
       "<pandas.io.formats.style.Styler at 0x1153526d8>"
      ]
     },
     "execution_count": 32,
     "metadata": {},
     "output_type": "execute_result"
    }
   ],
   "source": [
    "number_of_purchases = purchase_data[\"Purchase ID\"].count()\n",
    "unique_items = len(purchase_data[\"Item ID\"].unique())\n",
    "average_price = purchase_data[\"Price\"].mean()\n",
    "total_revenue = purchase_data[\"Price\"].sum() \n",
    "\n",
    "purchase_analysis = pd.DataFrame({\"Number of Unique Items\": [unique_items],\n",
    "                                   \"Average Price\": [average_price],\n",
    "                                   \"Number of Purchases\": [number_of_purchases],\n",
    "                                   \"Total Revenue\": [total_revenue]})\n",
    "\n",
    "purchase_analysis.style.format({\"Average Price\": \"${:,.2f}\",\n",
    "                                \"Total Revenue\": \"${:,.2f}\"})"
   ]
  },
  {
   "cell_type": "code",
   "execution_count": 3,
   "metadata": {
    "scrolled": true
   },
   "outputs": [
    {
     "data": {
      "text/html": [
       "<div>\n",
       "<style scoped>\n",
       "    .dataframe tbody tr th:only-of-type {\n",
       "        vertical-align: middle;\n",
       "    }\n",
       "\n",
       "    .dataframe tbody tr th {\n",
       "        vertical-align: top;\n",
       "    }\n",
       "\n",
       "    .dataframe thead th {\n",
       "        text-align: right;\n",
       "    }\n",
       "</style>\n",
       "<table border=\"1\" class=\"dataframe\">\n",
       "  <thead>\n",
       "    <tr style=\"text-align: right;\">\n",
       "      <th></th>\n",
       "      <th>Number of Unique Items</th>\n",
       "      <th>Average Price</th>\n",
       "      <th>Number of Purchases</th>\n",
       "      <th>Total Revenue</th>\n",
       "    </tr>\n",
       "  </thead>\n",
       "  <tbody>\n",
       "    <tr>\n",
       "      <th>0</th>\n",
       "      <td>183</td>\n",
       "      <td>$3.05</td>\n",
       "      <td>780</td>\n",
       "      <td>$2,379.77</td>\n",
       "    </tr>\n",
       "  </tbody>\n",
       "</table>\n",
       "</div>"
      ],
      "text/plain": [
       "   Number of Unique Items Average Price Number of Purchases Total Revenue\n",
       "0                     183         $3.05                 780     $2,379.77"
      ]
     },
     "execution_count": 3,
     "metadata": {},
     "output_type": "execute_result"
    }
   ],
   "source": []
  },
  {
   "cell_type": "code",
   "execution_count": null,
   "metadata": {},
   "outputs": [],
   "source": []
  },
  {
   "cell_type": "markdown",
   "metadata": {},
   "source": [
    "## Gender Demographics"
   ]
  },
  {
   "cell_type": "markdown",
   "metadata": {},
   "source": [
    "* Percentage and Count of Male Players\n",
    "\n",
    "\n",
    "* Percentage and Count of Female Players\n",
    "\n",
    "\n",
    "* Percentage and Count of Other / Non-Disclosed\n",
    "\n",
    "\n"
   ]
  },
  {
   "cell_type": "code",
   "execution_count": 33,
   "metadata": {},
   "outputs": [
    {
     "data": {
      "text/html": [
       "<style  type=\"text/css\" >\n",
       "</style><table id=\"T_858146dc_c539_11e9_8ce0_a0999b083af9\" ><thead>    <tr>        <th class=\"blank level0\" ></th>        <th class=\"col_heading level0 col0\" >Total Count</th>        <th class=\"col_heading level0 col1\" >Percentage of Players</th>    </tr></thead><tbody>\n",
       "                <tr>\n",
       "                        <th id=\"T_858146dc_c539_11e9_8ce0_a0999b083af9level0_row0\" class=\"row_heading level0 row0\" >Female</th>\n",
       "                        <td id=\"T_858146dc_c539_11e9_8ce0_a0999b083af9row0_col0\" class=\"data row0 col0\" >81</td>\n",
       "                        <td id=\"T_858146dc_c539_11e9_8ce0_a0999b083af9row0_col1\" class=\"data row0 col1\" >14.06</td>\n",
       "            </tr>\n",
       "            <tr>\n",
       "                        <th id=\"T_858146dc_c539_11e9_8ce0_a0999b083af9level0_row1\" class=\"row_heading level0 row1\" >Male</th>\n",
       "                        <td id=\"T_858146dc_c539_11e9_8ce0_a0999b083af9row1_col0\" class=\"data row1 col0\" >484</td>\n",
       "                        <td id=\"T_858146dc_c539_11e9_8ce0_a0999b083af9row1_col1\" class=\"data row1 col1\" >84.03</td>\n",
       "            </tr>\n",
       "            <tr>\n",
       "                        <th id=\"T_858146dc_c539_11e9_8ce0_a0999b083af9level0_row2\" class=\"row_heading level0 row2\" >Other / Non-Disclosed</th>\n",
       "                        <td id=\"T_858146dc_c539_11e9_8ce0_a0999b083af9row2_col0\" class=\"data row2 col0\" >11</td>\n",
       "                        <td id=\"T_858146dc_c539_11e9_8ce0_a0999b083af9row2_col1\" class=\"data row2 col1\" >1.91</td>\n",
       "            </tr>\n",
       "    </tbody></table>"
      ],
      "text/plain": [
       "<pandas.io.formats.style.Styler at 0x115974c18>"
      ]
     },
     "execution_count": 33,
     "metadata": {},
     "output_type": "execute_result"
    }
   ],
   "source": [
    "gender_count = purchase_data.groupby(\"Gender\")\n",
    "\n",
    "total_gender_count = gender_count.nunique()[\"SN\"]\n",
    "\n",
    "players_percentage = (total_gender_count/total_players) * 100\n",
    "\n",
    "gender_demographics = pd.DataFrame({\"Total Count\": total_gender_count,\"Percentage of Players\": players_percentage})\n",
    "gender_demographics.index.name = None\n",
    "gender_demographics.style.format({\"Percentage of Players\":\"{:,.2f}\"})\n"
   ]
  },
  {
   "cell_type": "code",
   "execution_count": 4,
   "metadata": {},
   "outputs": [
    {
     "data": {
      "text/html": [
       "<div>\n",
       "<style scoped>\n",
       "    .dataframe tbody tr th:only-of-type {\n",
       "        vertical-align: middle;\n",
       "    }\n",
       "\n",
       "    .dataframe tbody tr th {\n",
       "        vertical-align: top;\n",
       "    }\n",
       "\n",
       "    .dataframe thead th {\n",
       "        text-align: right;\n",
       "    }\n",
       "</style>\n",
       "<table border=\"1\" class=\"dataframe\">\n",
       "  <thead>\n",
       "    <tr style=\"text-align: right;\">\n",
       "      <th></th>\n",
       "      <th>Total Count</th>\n",
       "      <th>Percentage of Players</th>\n",
       "    </tr>\n",
       "  </thead>\n",
       "  <tbody>\n",
       "    <tr>\n",
       "      <th>Male</th>\n",
       "      <td>484</td>\n",
       "      <td>84.03</td>\n",
       "    </tr>\n",
       "    <tr>\n",
       "      <th>Female</th>\n",
       "      <td>81</td>\n",
       "      <td>14.06</td>\n",
       "    </tr>\n",
       "    <tr>\n",
       "      <th>Other / Non-Disclosed</th>\n",
       "      <td>11</td>\n",
       "      <td>1.91</td>\n",
       "    </tr>\n",
       "  </tbody>\n",
       "</table>\n",
       "</div>"
      ],
      "text/plain": [
       "                       Total Count  Percentage of Players\n",
       "Male                           484                  84.03\n",
       "Female                          81                  14.06\n",
       "Other / Non-Disclosed           11                   1.91"
      ]
     },
     "execution_count": 4,
     "metadata": {},
     "output_type": "execute_result"
    }
   ],
   "source": []
  },
  {
   "cell_type": "markdown",
   "metadata": {},
   "source": [
    "\n",
    "## Purchasing Analysis (Gender)"
   ]
  },
  {
   "cell_type": "markdown",
   "metadata": {},
   "source": [
    "* Run basic calculations to obtain purchase count, avg. purchase price, avg. purchase total per person etc. by gender\n",
    "\n",
    "\n",
    "\n",
    "\n",
    "* Create a summary data frame to hold the results\n",
    "\n",
    "\n",
    "* Optional: give the displayed data cleaner formatting\n",
    "\n",
    "\n",
    "* Display the summary data frame"
   ]
  },
  {
   "cell_type": "code",
   "execution_count": 34,
   "metadata": {},
   "outputs": [
    {
     "data": {
      "text/html": [
       "<style  type=\"text/css\" >\n",
       "</style><table id=\"T_8bc3c5ce_c539_11e9_8ce0_a0999b083af9\" ><thead>    <tr>        <th class=\"blank level0\" ></th>        <th class=\"col_heading level0 col0\" >Purchase Count</th>        <th class=\"col_heading level0 col1\" >Average Purchase Price</th>        <th class=\"col_heading level0 col2\" >Total Purchase Value</th>        <th class=\"col_heading level0 col3\" >Avg Total Purchase per Person</th>    </tr>    <tr>        <th class=\"index_name level0\" >Gender</th>        <th class=\"blank\" ></th>        <th class=\"blank\" ></th>        <th class=\"blank\" ></th>        <th class=\"blank\" ></th>    </tr></thead><tbody>\n",
       "                <tr>\n",
       "                        <th id=\"T_8bc3c5ce_c539_11e9_8ce0_a0999b083af9level0_row0\" class=\"row_heading level0 row0\" >Female</th>\n",
       "                        <td id=\"T_8bc3c5ce_c539_11e9_8ce0_a0999b083af9row0_col0\" class=\"data row0 col0\" >113</td>\n",
       "                        <td id=\"T_8bc3c5ce_c539_11e9_8ce0_a0999b083af9row0_col1\" class=\"data row0 col1\" >$3.20</td>\n",
       "                        <td id=\"T_8bc3c5ce_c539_11e9_8ce0_a0999b083af9row0_col2\" class=\"data row0 col2\" >$361.94</td>\n",
       "                        <td id=\"T_8bc3c5ce_c539_11e9_8ce0_a0999b083af9row0_col3\" class=\"data row0 col3\" >$4.47</td>\n",
       "            </tr>\n",
       "            <tr>\n",
       "                        <th id=\"T_8bc3c5ce_c539_11e9_8ce0_a0999b083af9level0_row1\" class=\"row_heading level0 row1\" >Male</th>\n",
       "                        <td id=\"T_8bc3c5ce_c539_11e9_8ce0_a0999b083af9row1_col0\" class=\"data row1 col0\" >652</td>\n",
       "                        <td id=\"T_8bc3c5ce_c539_11e9_8ce0_a0999b083af9row1_col1\" class=\"data row1 col1\" >$3.02</td>\n",
       "                        <td id=\"T_8bc3c5ce_c539_11e9_8ce0_a0999b083af9row1_col2\" class=\"data row1 col2\" >$1,967.64</td>\n",
       "                        <td id=\"T_8bc3c5ce_c539_11e9_8ce0_a0999b083af9row1_col3\" class=\"data row1 col3\" >$4.07</td>\n",
       "            </tr>\n",
       "            <tr>\n",
       "                        <th id=\"T_8bc3c5ce_c539_11e9_8ce0_a0999b083af9level0_row2\" class=\"row_heading level0 row2\" >Other / Non-Disclosed</th>\n",
       "                        <td id=\"T_8bc3c5ce_c539_11e9_8ce0_a0999b083af9row2_col0\" class=\"data row2 col0\" >15</td>\n",
       "                        <td id=\"T_8bc3c5ce_c539_11e9_8ce0_a0999b083af9row2_col1\" class=\"data row2 col1\" >$3.35</td>\n",
       "                        <td id=\"T_8bc3c5ce_c539_11e9_8ce0_a0999b083af9row2_col2\" class=\"data row2 col2\" >$50.19</td>\n",
       "                        <td id=\"T_8bc3c5ce_c539_11e9_8ce0_a0999b083af9row2_col3\" class=\"data row2 col3\" >$4.56</td>\n",
       "            </tr>\n",
       "    </tbody></table>"
      ],
      "text/plain": [
       "<pandas.io.formats.style.Styler at 0x115963550>"
      ]
     },
     "execution_count": 34,
     "metadata": {},
     "output_type": "execute_result"
    }
   ],
   "source": [
    "purchase_count = gender_count[\"Purchase ID\"].count()\n",
    "\n",
    "average_purchase_price = gender_count[\"Price\"].mean()\n",
    "\n",
    "total_value = gender_count[\"Price\"].sum()\n",
    "\n",
    "average_total_purchase = total_value/total_gender_count\n",
    "\n",
    "purchase_gender_analysis = pd.DataFrame({\"Purchase Count\": purchase_count,\n",
    "                         \"Average Purchase Price\": average_purchase_price,\n",
    "                         \"Total Purchase Value\": total_value,\n",
    "                         \"Avg Total Purchase per Person\": average_total_purchase})\n",
    "\n",
    "purchase_gender_analysis.index.name = \"Gender\"\n",
    "\n",
    "purchase_gender_analysis.style.format({\"Average Purchase Price\": \"${:,.2f}\",\n",
    "                                       \"Total Purchase Value\": \"${:,.2f}\",\n",
    "                                       \"Avg Total Purchase per Person\": \"${:,.2f}\"})\n"
   ]
  },
  {
   "cell_type": "code",
   "execution_count": 5,
   "metadata": {},
   "outputs": [
    {
     "data": {
      "text/html": [
       "<div>\n",
       "<table border=\"1\" class=\"dataframe\">\n",
       "  <thead>\n",
       "    <tr style=\"text-align: right;\">\n",
       "      <th></th>\n",
       "      <th>Purchase Count</th>\n",
       "      <th>Average Purchase Price</th>\n",
       "      <th>Total Purchase Value</th>\n",
       "      <th>Avg Total Purchase per Person</th>\n",
       "    </tr>\n",
       "    <tr>\n",
       "      <th>Gender</th>\n",
       "      <th></th>\n",
       "      <th></th>\n",
       "      <th></th>\n",
       "      <th></th>\n",
       "    </tr>\n",
       "  </thead>\n",
       "  <tbody>\n",
       "    <tr>\n",
       "      <th>Female</th>\n",
       "      <td>113</td>\n",
       "      <td>$3.20</td>\n",
       "      <td>$361.94</td>\n",
       "      <td>$4.47</td>\n",
       "    </tr>\n",
       "    <tr>\n",
       "      <th>Male</th>\n",
       "      <td>652</td>\n",
       "      <td>$3.02</td>\n",
       "      <td>$1,967.64</td>\n",
       "      <td>$4.07</td>\n",
       "    </tr>\n",
       "    <tr>\n",
       "      <th>Other / Non-Disclosed</th>\n",
       "      <td>15</td>\n",
       "      <td>$3.35</td>\n",
       "      <td>$50.19</td>\n",
       "      <td>$4.56</td>\n",
       "    </tr>\n",
       "  </tbody>\n",
       "</table>\n",
       "</div>"
      ],
      "text/plain": [
       "                      Purchase Count Average Purchase Price  \\\n",
       "Gender                                                        \n",
       "Female                           113                  $3.20   \n",
       "Male                             652                  $3.02   \n",
       "Other / Non-Disclosed             15                  $3.35   \n",
       "\n",
       "                      Total Purchase Value Avg Total Purchase per Person  \n",
       "Gender                                                                    \n",
       "Female                             $361.94                         $4.47  \n",
       "Male                             $1,967.64                         $4.07  \n",
       "Other / Non-Disclosed               $50.19                         $4.56  "
      ]
     },
     "execution_count": 5,
     "metadata": {},
     "output_type": "execute_result"
    }
   ],
   "source": []
  },
  {
   "cell_type": "markdown",
   "metadata": {},
   "source": [
    "## Age Demographics"
   ]
  },
  {
   "cell_type": "markdown",
   "metadata": {},
   "source": [
    "* Establish bins for ages\n",
    "\n",
    "\n",
    "* Categorize the existing players using the age bins. Hint: use pd.cut()\n",
    "\n",
    "\n",
    "* Calculate the numbers and percentages by age group\n",
    "\n",
    "\n",
    "* Create a summary data frame to hold the results\n",
    "\n",
    "\n",
    "* Optional: round the percentage column to two decimal points\n",
    "\n",
    "\n",
    "* Display Age Demographics Table\n"
   ]
  },
  {
   "cell_type": "code",
   "execution_count": 35,
   "metadata": {},
   "outputs": [
    {
     "data": {
      "text/html": [
       "<style  type=\"text/css\" >\n",
       "</style><table id=\"T_92438588_c539_11e9_8ce0_a0999b083af9\" ><thead>    <tr>        <th class=\"blank level0\" ></th>        <th class=\"col_heading level0 col0\" >Total Count</th>        <th class=\"col_heading level0 col1\" >Percentage of Players</th>    </tr></thead><tbody>\n",
       "                <tr>\n",
       "                        <th id=\"T_92438588_c539_11e9_8ce0_a0999b083af9level0_row0\" class=\"row_heading level0 row0\" ><10</th>\n",
       "                        <td id=\"T_92438588_c539_11e9_8ce0_a0999b083af9row0_col0\" class=\"data row0 col0\" >17</td>\n",
       "                        <td id=\"T_92438588_c539_11e9_8ce0_a0999b083af9row0_col1\" class=\"data row0 col1\" >2.95</td>\n",
       "            </tr>\n",
       "            <tr>\n",
       "                        <th id=\"T_92438588_c539_11e9_8ce0_a0999b083af9level0_row1\" class=\"row_heading level0 row1\" >10-14</th>\n",
       "                        <td id=\"T_92438588_c539_11e9_8ce0_a0999b083af9row1_col0\" class=\"data row1 col0\" >22</td>\n",
       "                        <td id=\"T_92438588_c539_11e9_8ce0_a0999b083af9row1_col1\" class=\"data row1 col1\" >3.82</td>\n",
       "            </tr>\n",
       "            <tr>\n",
       "                        <th id=\"T_92438588_c539_11e9_8ce0_a0999b083af9level0_row2\" class=\"row_heading level0 row2\" >15-19</th>\n",
       "                        <td id=\"T_92438588_c539_11e9_8ce0_a0999b083af9row2_col0\" class=\"data row2 col0\" >107</td>\n",
       "                        <td id=\"T_92438588_c539_11e9_8ce0_a0999b083af9row2_col1\" class=\"data row2 col1\" >18.58</td>\n",
       "            </tr>\n",
       "            <tr>\n",
       "                        <th id=\"T_92438588_c539_11e9_8ce0_a0999b083af9level0_row3\" class=\"row_heading level0 row3\" >20-24</th>\n",
       "                        <td id=\"T_92438588_c539_11e9_8ce0_a0999b083af9row3_col0\" class=\"data row3 col0\" >258</td>\n",
       "                        <td id=\"T_92438588_c539_11e9_8ce0_a0999b083af9row3_col1\" class=\"data row3 col1\" >44.79</td>\n",
       "            </tr>\n",
       "            <tr>\n",
       "                        <th id=\"T_92438588_c539_11e9_8ce0_a0999b083af9level0_row4\" class=\"row_heading level0 row4\" >25-29</th>\n",
       "                        <td id=\"T_92438588_c539_11e9_8ce0_a0999b083af9row4_col0\" class=\"data row4 col0\" >77</td>\n",
       "                        <td id=\"T_92438588_c539_11e9_8ce0_a0999b083af9row4_col1\" class=\"data row4 col1\" >13.37</td>\n",
       "            </tr>\n",
       "            <tr>\n",
       "                        <th id=\"T_92438588_c539_11e9_8ce0_a0999b083af9level0_row5\" class=\"row_heading level0 row5\" >30-34</th>\n",
       "                        <td id=\"T_92438588_c539_11e9_8ce0_a0999b083af9row5_col0\" class=\"data row5 col0\" >52</td>\n",
       "                        <td id=\"T_92438588_c539_11e9_8ce0_a0999b083af9row5_col1\" class=\"data row5 col1\" >9.03</td>\n",
       "            </tr>\n",
       "            <tr>\n",
       "                        <th id=\"T_92438588_c539_11e9_8ce0_a0999b083af9level0_row6\" class=\"row_heading level0 row6\" >35-39</th>\n",
       "                        <td id=\"T_92438588_c539_11e9_8ce0_a0999b083af9row6_col0\" class=\"data row6 col0\" >31</td>\n",
       "                        <td id=\"T_92438588_c539_11e9_8ce0_a0999b083af9row6_col1\" class=\"data row6 col1\" >5.38</td>\n",
       "            </tr>\n",
       "            <tr>\n",
       "                        <th id=\"T_92438588_c539_11e9_8ce0_a0999b083af9level0_row7\" class=\"row_heading level0 row7\" >40+</th>\n",
       "                        <td id=\"T_92438588_c539_11e9_8ce0_a0999b083af9row7_col0\" class=\"data row7 col0\" >12</td>\n",
       "                        <td id=\"T_92438588_c539_11e9_8ce0_a0999b083af9row7_col1\" class=\"data row7 col1\" >2.08</td>\n",
       "            </tr>\n",
       "    </tbody></table>"
      ],
      "text/plain": [
       "<pandas.io.formats.style.Styler at 0x114270588>"
      ]
     },
     "execution_count": 35,
     "metadata": {},
     "output_type": "execute_result"
    }
   ],
   "source": [
    "bins = [0, 9.9, 14.9, 19.9, 24.9, 29.9, 34.9, 39.9, 100]\n",
    "\n",
    "group_name = [\"<10\", \"10-14\", \"15-19\", \"20-24\", \"25-29\", \"30-34\", \"35-39\", \"40+\"]\n",
    "\n",
    "purchase_data[\"Age Group\"] = pd.cut(purchase_data[\"Age\"], bins, labels=group_name)\n",
    "\n",
    "age_group = purchase_data.groupby(\"Age Group\")\n",
    "\n",
    "total_age_count = age_group.nunique()[\"SN\"]\n",
    "\n",
    "total_age_count\n",
    "\n",
    "age_percentage = (total_age_count/total_players) * 100\n",
    "\n",
    "age_demographics = pd.DataFrame({\"Total Count\": total_age_count,\"Percentage of Players\": age_percentage})\n",
    "\n",
    "age_demographics.index.name = None\n",
    "\n",
    "age_demographics.style.format({\"Percentage of Players\":\"{:,.2f}\"})"
   ]
  },
  {
   "cell_type": "code",
   "execution_count": 6,
   "metadata": {},
   "outputs": [
    {
     "data": {
      "text/html": [
       "<div>\n",
       "<style scoped>\n",
       "    .dataframe tbody tr th:only-of-type {\n",
       "        vertical-align: middle;\n",
       "    }\n",
       "\n",
       "    .dataframe tbody tr th {\n",
       "        vertical-align: top;\n",
       "    }\n",
       "\n",
       "    .dataframe thead th {\n",
       "        text-align: right;\n",
       "    }\n",
       "</style>\n",
       "<table border=\"1\" class=\"dataframe\">\n",
       "  <thead>\n",
       "    <tr style=\"text-align: right;\">\n",
       "      <th></th>\n",
       "      <th>Total Count</th>\n",
       "      <th>Percentage of Players</th>\n",
       "    </tr>\n",
       "  </thead>\n",
       "  <tbody>\n",
       "    <tr>\n",
       "      <th>&lt;10</th>\n",
       "      <td>17</td>\n",
       "      <td>2.95</td>\n",
       "    </tr>\n",
       "    <tr>\n",
       "      <th>10-14</th>\n",
       "      <td>22</td>\n",
       "      <td>3.82</td>\n",
       "    </tr>\n",
       "    <tr>\n",
       "      <th>15-19</th>\n",
       "      <td>107</td>\n",
       "      <td>18.58</td>\n",
       "    </tr>\n",
       "    <tr>\n",
       "      <th>20-24</th>\n",
       "      <td>258</td>\n",
       "      <td>44.79</td>\n",
       "    </tr>\n",
       "    <tr>\n",
       "      <th>25-29</th>\n",
       "      <td>77</td>\n",
       "      <td>13.37</td>\n",
       "    </tr>\n",
       "    <tr>\n",
       "      <th>30-34</th>\n",
       "      <td>52</td>\n",
       "      <td>9.03</td>\n",
       "    </tr>\n",
       "    <tr>\n",
       "      <th>35-39</th>\n",
       "      <td>31</td>\n",
       "      <td>5.38</td>\n",
       "    </tr>\n",
       "    <tr>\n",
       "      <th>40+</th>\n",
       "      <td>12</td>\n",
       "      <td>2.08</td>\n",
       "    </tr>\n",
       "  </tbody>\n",
       "</table>\n",
       "</div>"
      ],
      "text/plain": [
       "       Total Count  Percentage of Players\n",
       "<10             17                   2.95\n",
       "10-14           22                   3.82\n",
       "15-19          107                  18.58\n",
       "20-24          258                  44.79\n",
       "25-29           77                  13.37\n",
       "30-34           52                   9.03\n",
       "35-39           31                   5.38\n",
       "40+             12                   2.08"
      ]
     },
     "execution_count": 6,
     "metadata": {},
     "output_type": "execute_result"
    }
   ],
   "source": []
  },
  {
   "cell_type": "markdown",
   "metadata": {},
   "source": [
    "## Purchasing Analysis (Age)"
   ]
  },
  {
   "cell_type": "markdown",
   "metadata": {},
   "source": [
    "* Bin the purchase_data data frame by age\n",
    "\n",
    "\n",
    "* Run basic calculations to obtain purchase count, avg. purchase price, avg. purchase total per person etc. in the table below\n",
    "\n",
    "\n",
    "* Create a summary data frame to hold the results\n",
    "\n",
    "\n",
    "* Optional: give the displayed data cleaner formatting\n",
    "\n",
    "\n",
    "* Display the summary data frame"
   ]
  },
  {
   "cell_type": "code",
   "execution_count": 37,
   "metadata": {},
   "outputs": [
    {
     "data": {
      "text/html": [
       "<style  type=\"text/css\" >\n",
       "</style><table id=\"T_c4bcb03e_c539_11e9_8ce0_a0999b083af9\" ><thead>    <tr>        <th class=\"blank level0\" ></th>        <th class=\"col_heading level0 col0\" >Purchase Count</th>        <th class=\"col_heading level0 col1\" >Average Purchase Price</th>        <th class=\"col_heading level0 col2\" >Total Purchase Value</th>        <th class=\"col_heading level0 col3\" >Avg Total Purchase per Person</th>    </tr></thead><tbody>\n",
       "                <tr>\n",
       "                        <th id=\"T_c4bcb03e_c539_11e9_8ce0_a0999b083af9level0_row0\" class=\"row_heading level0 row0\" ><10</th>\n",
       "                        <td id=\"T_c4bcb03e_c539_11e9_8ce0_a0999b083af9row0_col0\" class=\"data row0 col0\" >23</td>\n",
       "                        <td id=\"T_c4bcb03e_c539_11e9_8ce0_a0999b083af9row0_col1\" class=\"data row0 col1\" >$3.35</td>\n",
       "                        <td id=\"T_c4bcb03e_c539_11e9_8ce0_a0999b083af9row0_col2\" class=\"data row0 col2\" >$77.13</td>\n",
       "                        <td id=\"T_c4bcb03e_c539_11e9_8ce0_a0999b083af9row0_col3\" class=\"data row0 col3\" >$4.54</td>\n",
       "            </tr>\n",
       "            <tr>\n",
       "                        <th id=\"T_c4bcb03e_c539_11e9_8ce0_a0999b083af9level0_row1\" class=\"row_heading level0 row1\" >10-14</th>\n",
       "                        <td id=\"T_c4bcb03e_c539_11e9_8ce0_a0999b083af9row1_col0\" class=\"data row1 col0\" >28</td>\n",
       "                        <td id=\"T_c4bcb03e_c539_11e9_8ce0_a0999b083af9row1_col1\" class=\"data row1 col1\" >$2.96</td>\n",
       "                        <td id=\"T_c4bcb03e_c539_11e9_8ce0_a0999b083af9row1_col2\" class=\"data row1 col2\" >$82.78</td>\n",
       "                        <td id=\"T_c4bcb03e_c539_11e9_8ce0_a0999b083af9row1_col3\" class=\"data row1 col3\" >$3.76</td>\n",
       "            </tr>\n",
       "            <tr>\n",
       "                        <th id=\"T_c4bcb03e_c539_11e9_8ce0_a0999b083af9level0_row2\" class=\"row_heading level0 row2\" >15-19</th>\n",
       "                        <td id=\"T_c4bcb03e_c539_11e9_8ce0_a0999b083af9row2_col0\" class=\"data row2 col0\" >136</td>\n",
       "                        <td id=\"T_c4bcb03e_c539_11e9_8ce0_a0999b083af9row2_col1\" class=\"data row2 col1\" >$3.04</td>\n",
       "                        <td id=\"T_c4bcb03e_c539_11e9_8ce0_a0999b083af9row2_col2\" class=\"data row2 col2\" >$412.89</td>\n",
       "                        <td id=\"T_c4bcb03e_c539_11e9_8ce0_a0999b083af9row2_col3\" class=\"data row2 col3\" >$3.86</td>\n",
       "            </tr>\n",
       "            <tr>\n",
       "                        <th id=\"T_c4bcb03e_c539_11e9_8ce0_a0999b083af9level0_row3\" class=\"row_heading level0 row3\" >20-24</th>\n",
       "                        <td id=\"T_c4bcb03e_c539_11e9_8ce0_a0999b083af9row3_col0\" class=\"data row3 col0\" >365</td>\n",
       "                        <td id=\"T_c4bcb03e_c539_11e9_8ce0_a0999b083af9row3_col1\" class=\"data row3 col1\" >$3.05</td>\n",
       "                        <td id=\"T_c4bcb03e_c539_11e9_8ce0_a0999b083af9row3_col2\" class=\"data row3 col2\" >$1,114.06</td>\n",
       "                        <td id=\"T_c4bcb03e_c539_11e9_8ce0_a0999b083af9row3_col3\" class=\"data row3 col3\" >$4.32</td>\n",
       "            </tr>\n",
       "            <tr>\n",
       "                        <th id=\"T_c4bcb03e_c539_11e9_8ce0_a0999b083af9level0_row4\" class=\"row_heading level0 row4\" >25-29</th>\n",
       "                        <td id=\"T_c4bcb03e_c539_11e9_8ce0_a0999b083af9row4_col0\" class=\"data row4 col0\" >101</td>\n",
       "                        <td id=\"T_c4bcb03e_c539_11e9_8ce0_a0999b083af9row4_col1\" class=\"data row4 col1\" >$2.90</td>\n",
       "                        <td id=\"T_c4bcb03e_c539_11e9_8ce0_a0999b083af9row4_col2\" class=\"data row4 col2\" >$293.00</td>\n",
       "                        <td id=\"T_c4bcb03e_c539_11e9_8ce0_a0999b083af9row4_col3\" class=\"data row4 col3\" >$3.81</td>\n",
       "            </tr>\n",
       "            <tr>\n",
       "                        <th id=\"T_c4bcb03e_c539_11e9_8ce0_a0999b083af9level0_row5\" class=\"row_heading level0 row5\" >30-34</th>\n",
       "                        <td id=\"T_c4bcb03e_c539_11e9_8ce0_a0999b083af9row5_col0\" class=\"data row5 col0\" >73</td>\n",
       "                        <td id=\"T_c4bcb03e_c539_11e9_8ce0_a0999b083af9row5_col1\" class=\"data row5 col1\" >$2.93</td>\n",
       "                        <td id=\"T_c4bcb03e_c539_11e9_8ce0_a0999b083af9row5_col2\" class=\"data row5 col2\" >$214.00</td>\n",
       "                        <td id=\"T_c4bcb03e_c539_11e9_8ce0_a0999b083af9row5_col3\" class=\"data row5 col3\" >$4.12</td>\n",
       "            </tr>\n",
       "            <tr>\n",
       "                        <th id=\"T_c4bcb03e_c539_11e9_8ce0_a0999b083af9level0_row6\" class=\"row_heading level0 row6\" >35-39</th>\n",
       "                        <td id=\"T_c4bcb03e_c539_11e9_8ce0_a0999b083af9row6_col0\" class=\"data row6 col0\" >41</td>\n",
       "                        <td id=\"T_c4bcb03e_c539_11e9_8ce0_a0999b083af9row6_col1\" class=\"data row6 col1\" >$3.60</td>\n",
       "                        <td id=\"T_c4bcb03e_c539_11e9_8ce0_a0999b083af9row6_col2\" class=\"data row6 col2\" >$147.67</td>\n",
       "                        <td id=\"T_c4bcb03e_c539_11e9_8ce0_a0999b083af9row6_col3\" class=\"data row6 col3\" >$4.76</td>\n",
       "            </tr>\n",
       "            <tr>\n",
       "                        <th id=\"T_c4bcb03e_c539_11e9_8ce0_a0999b083af9level0_row7\" class=\"row_heading level0 row7\" >40+</th>\n",
       "                        <td id=\"T_c4bcb03e_c539_11e9_8ce0_a0999b083af9row7_col0\" class=\"data row7 col0\" >13</td>\n",
       "                        <td id=\"T_c4bcb03e_c539_11e9_8ce0_a0999b083af9row7_col1\" class=\"data row7 col1\" >$2.94</td>\n",
       "                        <td id=\"T_c4bcb03e_c539_11e9_8ce0_a0999b083af9row7_col2\" class=\"data row7 col2\" >$38.24</td>\n",
       "                        <td id=\"T_c4bcb03e_c539_11e9_8ce0_a0999b083af9row7_col3\" class=\"data row7 col3\" >$3.19</td>\n",
       "            </tr>\n",
       "    </tbody></table>"
      ],
      "text/plain": [
       "<pandas.io.formats.style.Styler at 0x11598f748>"
      ]
     },
     "execution_count": 37,
     "metadata": {},
     "output_type": "execute_result"
    }
   ],
   "source": [
    "purchase_age_count = age_group[\"Purchase ID\"].count()\n",
    "\n",
    "avg_purchase_price = age_group[\"Price\"].mean()\n",
    "\n",
    "total_purchase_val = age_group[\"Price\"].sum()\n",
    "\n",
    "avg_purchase_total_per_person = total_purchase_val/total_age_count\n",
    "\n",
    "purchasing_age_analysis = pd.DataFrame({\"Purchase Count\": purchase_age_count,\n",
    "                                        \"Average Purchase Price\": avg_purchase_price, \n",
    "                                        \"Total Purchase Value\": total_purchase_val,\n",
    "                                        \"Avg Total Purchase per Person\": avg_purchase_total_per_person})\n",
    "purchasing_age_analysis.index.name = None\n",
    "\n",
    "purchasing_age_analysis.sort_values(by='Purchase Count', ascending=False)\n",
    "\n",
    "purchasing_age_analysis.style.format({\"Average Purchase Price\": \"${:,.2f}\",\n",
    "                                       \"Total Purchase Value\": \"${:,.2f}\",\n",
    "                                       \"Avg Total Purchase per Person\": \"${:,.2f}\"})"
   ]
  },
  {
   "cell_type": "code",
   "execution_count": 7,
   "metadata": {},
   "outputs": [
    {
     "data": {
      "text/html": [
       "<div>\n",
       "<table border=\"1\" class=\"dataframe\">\n",
       "  <thead>\n",
       "    <tr style=\"text-align: right;\">\n",
       "      <th></th>\n",
       "      <th>Purchase Count</th>\n",
       "      <th>Average Purchase Price</th>\n",
       "      <th>Total Purchase Value</th>\n",
       "      <th>Avg Total Purchase per Person</th>\n",
       "    </tr>\n",
       "  </thead>\n",
       "  <tbody>\n",
       "    <tr>\n",
       "      <th>10-14</th>\n",
       "      <td>28</td>\n",
       "      <td>$2.96</td>\n",
       "      <td>$82.78</td>\n",
       "      <td>$3.76</td>\n",
       "    </tr>\n",
       "    <tr>\n",
       "      <th>15-19</th>\n",
       "      <td>136</td>\n",
       "      <td>$3.04</td>\n",
       "      <td>$412.89</td>\n",
       "      <td>$3.86</td>\n",
       "    </tr>\n",
       "    <tr>\n",
       "      <th>20-24</th>\n",
       "      <td>365</td>\n",
       "      <td>$3.05</td>\n",
       "      <td>$1,114.06</td>\n",
       "      <td>$4.32</td>\n",
       "    </tr>\n",
       "    <tr>\n",
       "      <th>25-29</th>\n",
       "      <td>101</td>\n",
       "      <td>$2.90</td>\n",
       "      <td>$293.00</td>\n",
       "      <td>$3.81</td>\n",
       "    </tr>\n",
       "    <tr>\n",
       "      <th>30-34</th>\n",
       "      <td>73</td>\n",
       "      <td>$2.93</td>\n",
       "      <td>$214.00</td>\n",
       "      <td>$4.12</td>\n",
       "    </tr>\n",
       "    <tr>\n",
       "      <th>35-39</th>\n",
       "      <td>41</td>\n",
       "      <td>$3.60</td>\n",
       "      <td>$147.67</td>\n",
       "      <td>$4.76</td>\n",
       "    </tr>\n",
       "    <tr>\n",
       "      <th>40+</th>\n",
       "      <td>13</td>\n",
       "      <td>$2.94</td>\n",
       "      <td>$38.24</td>\n",
       "      <td>$3.19</td>\n",
       "    </tr>\n",
       "    <tr>\n",
       "      <th>&lt;10</th>\n",
       "      <td>23</td>\n",
       "      <td>$3.35</td>\n",
       "      <td>$77.13</td>\n",
       "      <td>$4.54</td>\n",
       "    </tr>\n",
       "  </tbody>\n",
       "</table>\n",
       "</div>"
      ],
      "text/plain": [
       "      Purchase Count Average Purchase Price Total Purchase Value  \\\n",
       "10-14             28                  $2.96               $82.78   \n",
       "15-19            136                  $3.04              $412.89   \n",
       "20-24            365                  $3.05            $1,114.06   \n",
       "25-29            101                  $2.90              $293.00   \n",
       "30-34             73                  $2.93              $214.00   \n",
       "35-39             41                  $3.60              $147.67   \n",
       "40+               13                  $2.94               $38.24   \n",
       "<10               23                  $3.35               $77.13   \n",
       "\n",
       "      Avg Total Purchase per Person  \n",
       "10-14                         $3.76  \n",
       "15-19                         $3.86  \n",
       "20-24                         $4.32  \n",
       "25-29                         $3.81  \n",
       "30-34                         $4.12  \n",
       "35-39                         $4.76  \n",
       "40+                           $3.19  \n",
       "<10                           $4.54  "
      ]
     },
     "execution_count": 7,
     "metadata": {},
     "output_type": "execute_result"
    }
   ],
   "source": []
  },
  {
   "cell_type": "markdown",
   "metadata": {},
   "source": [
    "## Top Spenders"
   ]
  },
  {
   "cell_type": "markdown",
   "metadata": {},
   "source": [
    "* Run basic calculations to obtain the results in the table below\n",
    "\n",
    "\n",
    "* Create a summary data frame to hold the results\n",
    "\n",
    "\n",
    "* Sort the total purchase value column in descending order\n",
    "\n",
    "\n",
    "* Optional: give the displayed data cleaner formatting\n",
    "\n",
    "\n",
    "* Display a preview of the summary data frame\n",
    "\n"
   ]
  },
  {
   "cell_type": "code",
   "execution_count": 38,
   "metadata": {},
   "outputs": [
    {
     "data": {
      "text/html": [
       "<style  type=\"text/css\" >\n",
       "</style><table id=\"T_1005065e_c53a_11e9_8ce0_a0999b083af9\" ><thead>    <tr>        <th class=\"blank level0\" ></th>        <th class=\"col_heading level0 col0\" >Purchase Count</th>        <th class=\"col_heading level0 col1\" >Average Purchase Price</th>        <th class=\"col_heading level0 col2\" >Total Purchase Value</th>    </tr>    <tr>        <th class=\"index_name level0\" >SN</th>        <th class=\"blank\" ></th>        <th class=\"blank\" ></th>        <th class=\"blank\" ></th>    </tr></thead><tbody>\n",
       "                <tr>\n",
       "                        <th id=\"T_1005065e_c53a_11e9_8ce0_a0999b083af9level0_row0\" class=\"row_heading level0 row0\" >Lisosia93</th>\n",
       "                        <td id=\"T_1005065e_c53a_11e9_8ce0_a0999b083af9row0_col0\" class=\"data row0 col0\" >5</td>\n",
       "                        <td id=\"T_1005065e_c53a_11e9_8ce0_a0999b083af9row0_col1\" class=\"data row0 col1\" >$3.79</td>\n",
       "                        <td id=\"T_1005065e_c53a_11e9_8ce0_a0999b083af9row0_col2\" class=\"data row0 col2\" >$18.96</td>\n",
       "            </tr>\n",
       "            <tr>\n",
       "                        <th id=\"T_1005065e_c53a_11e9_8ce0_a0999b083af9level0_row1\" class=\"row_heading level0 row1\" >Idastidru52</th>\n",
       "                        <td id=\"T_1005065e_c53a_11e9_8ce0_a0999b083af9row1_col0\" class=\"data row1 col0\" >4</td>\n",
       "                        <td id=\"T_1005065e_c53a_11e9_8ce0_a0999b083af9row1_col1\" class=\"data row1 col1\" >$3.86</td>\n",
       "                        <td id=\"T_1005065e_c53a_11e9_8ce0_a0999b083af9row1_col2\" class=\"data row1 col2\" >$15.45</td>\n",
       "            </tr>\n",
       "            <tr>\n",
       "                        <th id=\"T_1005065e_c53a_11e9_8ce0_a0999b083af9level0_row2\" class=\"row_heading level0 row2\" >Chamjask73</th>\n",
       "                        <td id=\"T_1005065e_c53a_11e9_8ce0_a0999b083af9row2_col0\" class=\"data row2 col0\" >3</td>\n",
       "                        <td id=\"T_1005065e_c53a_11e9_8ce0_a0999b083af9row2_col1\" class=\"data row2 col1\" >$4.61</td>\n",
       "                        <td id=\"T_1005065e_c53a_11e9_8ce0_a0999b083af9row2_col2\" class=\"data row2 col2\" >$13.83</td>\n",
       "            </tr>\n",
       "            <tr>\n",
       "                        <th id=\"T_1005065e_c53a_11e9_8ce0_a0999b083af9level0_row3\" class=\"row_heading level0 row3\" >Iral74</th>\n",
       "                        <td id=\"T_1005065e_c53a_11e9_8ce0_a0999b083af9row3_col0\" class=\"data row3 col0\" >4</td>\n",
       "                        <td id=\"T_1005065e_c53a_11e9_8ce0_a0999b083af9row3_col1\" class=\"data row3 col1\" >$3.40</td>\n",
       "                        <td id=\"T_1005065e_c53a_11e9_8ce0_a0999b083af9row3_col2\" class=\"data row3 col2\" >$13.62</td>\n",
       "            </tr>\n",
       "            <tr>\n",
       "                        <th id=\"T_1005065e_c53a_11e9_8ce0_a0999b083af9level0_row4\" class=\"row_heading level0 row4\" >Iskadarya95</th>\n",
       "                        <td id=\"T_1005065e_c53a_11e9_8ce0_a0999b083af9row4_col0\" class=\"data row4 col0\" >3</td>\n",
       "                        <td id=\"T_1005065e_c53a_11e9_8ce0_a0999b083af9row4_col1\" class=\"data row4 col1\" >$4.37</td>\n",
       "                        <td id=\"T_1005065e_c53a_11e9_8ce0_a0999b083af9row4_col2\" class=\"data row4 col2\" >$13.10</td>\n",
       "            </tr>\n",
       "    </tbody></table>"
      ],
      "text/plain": [
       "<pandas.io.formats.style.Styler at 0x115963940>"
      ]
     },
     "execution_count": 38,
     "metadata": {},
     "output_type": "execute_result"
    }
   ],
   "source": [
    "top_spenders = purchase_data.groupby(\"SN\")\n",
    "\n",
    "spenders_purchase_count = top_spenders[\"Purchase ID\"].count()\n",
    "\n",
    "spenders_avg_price = top_spenders[\"Price\"].mean()\n",
    "\n",
    "spenders_total_value = top_spenders[\"Price\"].sum()\n",
    "\n",
    "top_spenders_analysis = pd.DataFrame({\"Purchase Count\": spenders_purchase_count,\n",
    "                                      \"Average Purchase Price\": spenders_avg_price,\n",
    "                                      \"Total Purchase Value\": spenders_total_value})\n",
    "\n",
    "data_format = top_spenders_analysis.sort_values([\"Total Purchase Value\"], ascending=False).head()\n",
    "\n",
    "\n",
    "data_format.style.format({\"Average Purchase Price\": \"${:,.2f}\",\n",
    "                                       \"Total Purchase Value\": \"${:,.2f}\"})"
   ]
  },
  {
   "cell_type": "code",
   "execution_count": 8,
   "metadata": {},
   "outputs": [
    {
     "data": {
      "text/html": [
       "<div>\n",
       "<table border=\"1\" class=\"dataframe\">\n",
       "  <thead>\n",
       "    <tr style=\"text-align: right;\">\n",
       "      <th></th>\n",
       "      <th>Purchase Count</th>\n",
       "      <th>Average Purchase Price</th>\n",
       "      <th>Total Purchase Value</th>\n",
       "    </tr>\n",
       "    <tr>\n",
       "      <th>SN</th>\n",
       "      <th></th>\n",
       "      <th></th>\n",
       "      <th></th>\n",
       "    </tr>\n",
       "  </thead>\n",
       "  <tbody>\n",
       "    <tr>\n",
       "      <th>Lisosia93</th>\n",
       "      <td>5</td>\n",
       "      <td>$3.79</td>\n",
       "      <td>$18.96</td>\n",
       "    </tr>\n",
       "    <tr>\n",
       "      <th>Idastidru52</th>\n",
       "      <td>4</td>\n",
       "      <td>$3.86</td>\n",
       "      <td>$15.45</td>\n",
       "    </tr>\n",
       "    <tr>\n",
       "      <th>Chamjask73</th>\n",
       "      <td>3</td>\n",
       "      <td>$4.61</td>\n",
       "      <td>$13.83</td>\n",
       "    </tr>\n",
       "    <tr>\n",
       "      <th>Iral74</th>\n",
       "      <td>4</td>\n",
       "      <td>$3.40</td>\n",
       "      <td>$13.62</td>\n",
       "    </tr>\n",
       "    <tr>\n",
       "      <th>Iskadarya95</th>\n",
       "      <td>3</td>\n",
       "      <td>$4.37</td>\n",
       "      <td>$13.10</td>\n",
       "    </tr>\n",
       "  </tbody>\n",
       "</table>\n",
       "</div>"
      ],
      "text/plain": [
       "             Purchase Count Average Purchase Price Total Purchase Value\n",
       "SN                                                                     \n",
       "Lisosia93                 5                  $3.79               $18.96\n",
       "Idastidru52               4                  $3.86               $15.45\n",
       "Chamjask73                3                  $4.61               $13.83\n",
       "Iral74                    4                  $3.40               $13.62\n",
       "Iskadarya95               3                  $4.37               $13.10"
      ]
     },
     "execution_count": 8,
     "metadata": {},
     "output_type": "execute_result"
    }
   ],
   "source": []
  },
  {
   "cell_type": "markdown",
   "metadata": {},
   "source": [
    "## Most Popular Items"
   ]
  },
  {
   "cell_type": "markdown",
   "metadata": {},
   "source": [
    "* Retrieve the Item ID, Item Name, and Item Price columns\n",
    "\n",
    "\n",
    "* Group by Item ID and Item Name. Perform calculations to obtain purchase count, item price, and total purchase value\n",
    "\n",
    "\n",
    "* Create a summary data frame to hold the results\n",
    "\n",
    "\n",
    "* Sort the purchase count column in descending order\n",
    "\n",
    "\n",
    "* Optional: give the displayed data cleaner formatting\n",
    "\n",
    "\n",
    "* Display a preview of the summary data frame\n",
    "\n"
   ]
  },
  {
   "cell_type": "code",
   "execution_count": 39,
   "metadata": {},
   "outputs": [
    {
     "data": {
      "text/html": [
       "<style  type=\"text/css\" >\n",
       "</style><table id=\"T_23e693fe_c53a_11e9_8ce0_a0999b083af9\" ><thead>    <tr>        <th class=\"blank\" ></th>        <th class=\"blank level0\" ></th>        <th class=\"col_heading level0 col0\" >Purchase Count</th>        <th class=\"col_heading level0 col1\" >Item Price</th>        <th class=\"col_heading level0 col2\" >Total Purchase Value</th>    </tr>    <tr>        <th class=\"index_name level0\" >Item ID</th>        <th class=\"index_name level1\" >Item Name</th>        <th class=\"blank\" ></th>        <th class=\"blank\" ></th>        <th class=\"blank\" ></th>    </tr></thead><tbody>\n",
       "                <tr>\n",
       "                        <th id=\"T_23e693fe_c53a_11e9_8ce0_a0999b083af9level0_row0\" class=\"row_heading level0 row0\" >178</th>\n",
       "                        <th id=\"T_23e693fe_c53a_11e9_8ce0_a0999b083af9level1_row0\" class=\"row_heading level1 row0\" >Oathbreaker, Last Hope of the Breaking Storm</th>\n",
       "                        <td id=\"T_23e693fe_c53a_11e9_8ce0_a0999b083af9row0_col0\" class=\"data row0 col0\" >12</td>\n",
       "                        <td id=\"T_23e693fe_c53a_11e9_8ce0_a0999b083af9row0_col1\" class=\"data row0 col1\" >$4.23</td>\n",
       "                        <td id=\"T_23e693fe_c53a_11e9_8ce0_a0999b083af9row0_col2\" class=\"data row0 col2\" >$50.76</td>\n",
       "            </tr>\n",
       "            <tr>\n",
       "                        <th id=\"T_23e693fe_c53a_11e9_8ce0_a0999b083af9level0_row1\" class=\"row_heading level0 row1\" >145</th>\n",
       "                        <th id=\"T_23e693fe_c53a_11e9_8ce0_a0999b083af9level1_row1\" class=\"row_heading level1 row1\" >Fiery Glass Crusader</th>\n",
       "                        <td id=\"T_23e693fe_c53a_11e9_8ce0_a0999b083af9row1_col0\" class=\"data row1 col0\" >9</td>\n",
       "                        <td id=\"T_23e693fe_c53a_11e9_8ce0_a0999b083af9row1_col1\" class=\"data row1 col1\" >$4.58</td>\n",
       "                        <td id=\"T_23e693fe_c53a_11e9_8ce0_a0999b083af9row1_col2\" class=\"data row1 col2\" >$41.22</td>\n",
       "            </tr>\n",
       "            <tr>\n",
       "                        <th id=\"T_23e693fe_c53a_11e9_8ce0_a0999b083af9level0_row2\" class=\"row_heading level0 row2\" >108</th>\n",
       "                        <th id=\"T_23e693fe_c53a_11e9_8ce0_a0999b083af9level1_row2\" class=\"row_heading level1 row2\" >Extraction, Quickblade Of Trembling Hands</th>\n",
       "                        <td id=\"T_23e693fe_c53a_11e9_8ce0_a0999b083af9row2_col0\" class=\"data row2 col0\" >9</td>\n",
       "                        <td id=\"T_23e693fe_c53a_11e9_8ce0_a0999b083af9row2_col1\" class=\"data row2 col1\" >$3.53</td>\n",
       "                        <td id=\"T_23e693fe_c53a_11e9_8ce0_a0999b083af9row2_col2\" class=\"data row2 col2\" >$31.77</td>\n",
       "            </tr>\n",
       "            <tr>\n",
       "                        <th id=\"T_23e693fe_c53a_11e9_8ce0_a0999b083af9level0_row3\" class=\"row_heading level0 row3\" >82</th>\n",
       "                        <th id=\"T_23e693fe_c53a_11e9_8ce0_a0999b083af9level1_row3\" class=\"row_heading level1 row3\" >Nirvana</th>\n",
       "                        <td id=\"T_23e693fe_c53a_11e9_8ce0_a0999b083af9row3_col0\" class=\"data row3 col0\" >9</td>\n",
       "                        <td id=\"T_23e693fe_c53a_11e9_8ce0_a0999b083af9row3_col1\" class=\"data row3 col1\" >$4.90</td>\n",
       "                        <td id=\"T_23e693fe_c53a_11e9_8ce0_a0999b083af9row3_col2\" class=\"data row3 col2\" >$44.10</td>\n",
       "            </tr>\n",
       "            <tr>\n",
       "                        <th id=\"T_23e693fe_c53a_11e9_8ce0_a0999b083af9level0_row4\" class=\"row_heading level0 row4\" >19</th>\n",
       "                        <th id=\"T_23e693fe_c53a_11e9_8ce0_a0999b083af9level1_row4\" class=\"row_heading level1 row4\" >Pursuit, Cudgel of Necromancy</th>\n",
       "                        <td id=\"T_23e693fe_c53a_11e9_8ce0_a0999b083af9row4_col0\" class=\"data row4 col0\" >8</td>\n",
       "                        <td id=\"T_23e693fe_c53a_11e9_8ce0_a0999b083af9row4_col1\" class=\"data row4 col1\" >$1.02</td>\n",
       "                        <td id=\"T_23e693fe_c53a_11e9_8ce0_a0999b083af9row4_col2\" class=\"data row4 col2\" >$8.16</td>\n",
       "            </tr>\n",
       "    </tbody></table>"
      ],
      "text/plain": [
       "<pandas.io.formats.style.Styler at 0x115996588>"
      ]
     },
     "execution_count": 39,
     "metadata": {},
     "output_type": "execute_result"
    }
   ],
   "source": [
    "popular_items = purchase_data.groupby([\"Item ID\", \"Item Name\"])\n",
    "\n",
    "item_purchase_count = popular_items[\"Price\"].count()\n",
    "\n",
    "item_total_value = popular_items[\"Price\"].sum()\n",
    "\n",
    "item_price = item_total_value/item_purchase_count\n",
    "\n",
    "\n",
    "most_popular_items = pd.DataFrame({\"Purchase Count\": item_purchase_count,\n",
    "                                   \"Item Price\": item_price,\n",
    "                                   \"Total Purchase Value\": item_total_value})\n",
    "\n",
    "items_data = most_popular_items.sort_values([\"Purchase Count\"], ascending=False).head()\n",
    "\n",
    "items_data.style.format({\"Item Price\": \"${:,.2f}\",\"Total Purchase Value\": \"${:,.2f}\"})"
   ]
  },
  {
   "cell_type": "code",
   "execution_count": 9,
   "metadata": {},
   "outputs": [
    {
     "data": {
      "text/html": [
       "<div>\n",
       "<table border=\"1\" class=\"dataframe\">\n",
       "  <thead>\n",
       "    <tr style=\"text-align: right;\">\n",
       "      <th></th>\n",
       "      <th></th>\n",
       "      <th>Purchase Count</th>\n",
       "      <th>Item Price</th>\n",
       "      <th>Total Purchase Value</th>\n",
       "    </tr>\n",
       "    <tr>\n",
       "      <th>Item ID</th>\n",
       "      <th>Item Name</th>\n",
       "      <th></th>\n",
       "      <th></th>\n",
       "      <th></th>\n",
       "    </tr>\n",
       "  </thead>\n",
       "  <tbody>\n",
       "    <tr>\n",
       "      <th>178</th>\n",
       "      <th>Oathbreaker, Last Hope of the Breaking Storm</th>\n",
       "      <td>12</td>\n",
       "      <td>$4.23</td>\n",
       "      <td>$50.76</td>\n",
       "    </tr>\n",
       "    <tr>\n",
       "      <th>145</th>\n",
       "      <th>Fiery Glass Crusader</th>\n",
       "      <td>9</td>\n",
       "      <td>$4.58</td>\n",
       "      <td>$41.22</td>\n",
       "    </tr>\n",
       "    <tr>\n",
       "      <th>108</th>\n",
       "      <th>Extraction, Quickblade Of Trembling Hands</th>\n",
       "      <td>9</td>\n",
       "      <td>$3.53</td>\n",
       "      <td>$31.77</td>\n",
       "    </tr>\n",
       "    <tr>\n",
       "      <th>82</th>\n",
       "      <th>Nirvana</th>\n",
       "      <td>9</td>\n",
       "      <td>$4.90</td>\n",
       "      <td>$44.10</td>\n",
       "    </tr>\n",
       "    <tr>\n",
       "      <th>19</th>\n",
       "      <th>Pursuit, Cudgel of Necromancy</th>\n",
       "      <td>8</td>\n",
       "      <td>$1.02</td>\n",
       "      <td>$8.16</td>\n",
       "    </tr>\n",
       "  </tbody>\n",
       "</table>\n",
       "</div>"
      ],
      "text/plain": [
       "                                                     Purchase Count  \\\n",
       "Item ID Item Name                                                     \n",
       "178     Oathbreaker, Last Hope of the Breaking Storm             12   \n",
       "145     Fiery Glass Crusader                                      9   \n",
       "108     Extraction, Quickblade Of Trembling Hands                 9   \n",
       "82      Nirvana                                                   9   \n",
       "19      Pursuit, Cudgel of Necromancy                             8   \n",
       "\n",
       "                                                     Item Price  \\\n",
       "Item ID Item Name                                                 \n",
       "178     Oathbreaker, Last Hope of the Breaking Storm      $4.23   \n",
       "145     Fiery Glass Crusader                              $4.58   \n",
       "108     Extraction, Quickblade Of Trembling Hands         $3.53   \n",
       "82      Nirvana                                           $4.90   \n",
       "19      Pursuit, Cudgel of Necromancy                     $1.02   \n",
       "\n",
       "                                                     Total Purchase Value  \n",
       "Item ID Item Name                                                          \n",
       "178     Oathbreaker, Last Hope of the Breaking Storm               $50.76  \n",
       "145     Fiery Glass Crusader                                       $41.22  \n",
       "108     Extraction, Quickblade Of Trembling Hands                  $31.77  \n",
       "82      Nirvana                                                    $44.10  \n",
       "19      Pursuit, Cudgel of Necromancy                               $8.16  "
      ]
     },
     "execution_count": 9,
     "metadata": {},
     "output_type": "execute_result"
    }
   ],
   "source": []
  },
  {
   "cell_type": "markdown",
   "metadata": {},
   "source": [
    "## Most Profitable Items"
   ]
  },
  {
   "cell_type": "markdown",
   "metadata": {},
   "source": [
    "* Sort the above table by total purchase value in descending order\n",
    "\n",
    "\n",
    "* Optional: give the displayed data cleaner formatting\n",
    "\n",
    "\n",
    "* Display a preview of the data frame\n",
    "\n"
   ]
  },
  {
   "cell_type": "code",
   "execution_count": 41,
   "metadata": {},
   "outputs": [
    {
     "data": {
      "text/html": [
       "<style  type=\"text/css\" >\n",
       "</style><table id=\"T_3fe085ba_c53a_11e9_8ce0_a0999b083af9\" ><thead>    <tr>        <th class=\"blank\" ></th>        <th class=\"blank level0\" ></th>        <th class=\"col_heading level0 col0\" >Purchase Count</th>        <th class=\"col_heading level0 col1\" >Item Price</th>        <th class=\"col_heading level0 col2\" >Total Purchase Value</th>    </tr>    <tr>        <th class=\"index_name level0\" >Item ID</th>        <th class=\"index_name level1\" >Item Name</th>        <th class=\"blank\" ></th>        <th class=\"blank\" ></th>        <th class=\"blank\" ></th>    </tr></thead><tbody>\n",
       "                <tr>\n",
       "                        <th id=\"T_3fe085ba_c53a_11e9_8ce0_a0999b083af9level0_row0\" class=\"row_heading level0 row0\" >178</th>\n",
       "                        <th id=\"T_3fe085ba_c53a_11e9_8ce0_a0999b083af9level1_row0\" class=\"row_heading level1 row0\" >Oathbreaker, Last Hope of the Breaking Storm</th>\n",
       "                        <td id=\"T_3fe085ba_c53a_11e9_8ce0_a0999b083af9row0_col0\" class=\"data row0 col0\" >12</td>\n",
       "                        <td id=\"T_3fe085ba_c53a_11e9_8ce0_a0999b083af9row0_col1\" class=\"data row0 col1\" >$4.23</td>\n",
       "                        <td id=\"T_3fe085ba_c53a_11e9_8ce0_a0999b083af9row0_col2\" class=\"data row0 col2\" >$50.76</td>\n",
       "            </tr>\n",
       "            <tr>\n",
       "                        <th id=\"T_3fe085ba_c53a_11e9_8ce0_a0999b083af9level0_row1\" class=\"row_heading level0 row1\" >82</th>\n",
       "                        <th id=\"T_3fe085ba_c53a_11e9_8ce0_a0999b083af9level1_row1\" class=\"row_heading level1 row1\" >Nirvana</th>\n",
       "                        <td id=\"T_3fe085ba_c53a_11e9_8ce0_a0999b083af9row1_col0\" class=\"data row1 col0\" >9</td>\n",
       "                        <td id=\"T_3fe085ba_c53a_11e9_8ce0_a0999b083af9row1_col1\" class=\"data row1 col1\" >$4.90</td>\n",
       "                        <td id=\"T_3fe085ba_c53a_11e9_8ce0_a0999b083af9row1_col2\" class=\"data row1 col2\" >$44.10</td>\n",
       "            </tr>\n",
       "            <tr>\n",
       "                        <th id=\"T_3fe085ba_c53a_11e9_8ce0_a0999b083af9level0_row2\" class=\"row_heading level0 row2\" >145</th>\n",
       "                        <th id=\"T_3fe085ba_c53a_11e9_8ce0_a0999b083af9level1_row2\" class=\"row_heading level1 row2\" >Fiery Glass Crusader</th>\n",
       "                        <td id=\"T_3fe085ba_c53a_11e9_8ce0_a0999b083af9row2_col0\" class=\"data row2 col0\" >9</td>\n",
       "                        <td id=\"T_3fe085ba_c53a_11e9_8ce0_a0999b083af9row2_col1\" class=\"data row2 col1\" >$4.58</td>\n",
       "                        <td id=\"T_3fe085ba_c53a_11e9_8ce0_a0999b083af9row2_col2\" class=\"data row2 col2\" >$41.22</td>\n",
       "            </tr>\n",
       "            <tr>\n",
       "                        <th id=\"T_3fe085ba_c53a_11e9_8ce0_a0999b083af9level0_row3\" class=\"row_heading level0 row3\" >92</th>\n",
       "                        <th id=\"T_3fe085ba_c53a_11e9_8ce0_a0999b083af9level1_row3\" class=\"row_heading level1 row3\" >Final Critic</th>\n",
       "                        <td id=\"T_3fe085ba_c53a_11e9_8ce0_a0999b083af9row3_col0\" class=\"data row3 col0\" >8</td>\n",
       "                        <td id=\"T_3fe085ba_c53a_11e9_8ce0_a0999b083af9row3_col1\" class=\"data row3 col1\" >$4.88</td>\n",
       "                        <td id=\"T_3fe085ba_c53a_11e9_8ce0_a0999b083af9row3_col2\" class=\"data row3 col2\" >$39.04</td>\n",
       "            </tr>\n",
       "            <tr>\n",
       "                        <th id=\"T_3fe085ba_c53a_11e9_8ce0_a0999b083af9level0_row4\" class=\"row_heading level0 row4\" >103</th>\n",
       "                        <th id=\"T_3fe085ba_c53a_11e9_8ce0_a0999b083af9level1_row4\" class=\"row_heading level1 row4\" >Singed Scalpel</th>\n",
       "                        <td id=\"T_3fe085ba_c53a_11e9_8ce0_a0999b083af9row4_col0\" class=\"data row4 col0\" >8</td>\n",
       "                        <td id=\"T_3fe085ba_c53a_11e9_8ce0_a0999b083af9row4_col1\" class=\"data row4 col1\" >$4.35</td>\n",
       "                        <td id=\"T_3fe085ba_c53a_11e9_8ce0_a0999b083af9row4_col2\" class=\"data row4 col2\" >$34.80</td>\n",
       "            </tr>\n",
       "    </tbody></table>"
      ],
      "text/plain": [
       "<pandas.io.formats.style.Styler at 0x115974b00>"
      ]
     },
     "execution_count": 41,
     "metadata": {},
     "output_type": "execute_result"
    }
   ],
   "source": [
    "items_data = most_popular_items.sort_values([\"Total Purchase Value\"], ascending=False).head()\n",
    "\n",
    "items_data.style.format({\"Item Price\": \"${:,.2f}\",\"Total Purchase Value\": \"${:,.2f}\"})"
   ]
  },
  {
   "cell_type": "code",
   "execution_count": 40,
   "metadata": {
    "scrolled": true
   },
   "outputs": [
    {
     "data": {
      "text/html": [
       "<style  type=\"text/css\" >\n",
       "</style><table id=\"T_35cc6c56_c53a_11e9_8ce0_a0999b083af9\" ><thead>    <tr>        <th class=\"blank\" ></th>        <th class=\"blank level0\" ></th>        <th class=\"col_heading level0 col0\" >Purchase Count</th>        <th class=\"col_heading level0 col1\" >Item Price</th>        <th class=\"col_heading level0 col2\" >Total Purchase Value</th>    </tr>    <tr>        <th class=\"index_name level0\" >Item ID</th>        <th class=\"index_name level1\" >Item Name</th>        <th class=\"blank\" ></th>        <th class=\"blank\" ></th>        <th class=\"blank\" ></th>    </tr></thead><tbody>\n",
       "                <tr>\n",
       "                        <th id=\"T_35cc6c56_c53a_11e9_8ce0_a0999b083af9level0_row0\" class=\"row_heading level0 row0\" >178</th>\n",
       "                        <th id=\"T_35cc6c56_c53a_11e9_8ce0_a0999b083af9level1_row0\" class=\"row_heading level1 row0\" >Oathbreaker, Last Hope of the Breaking Storm</th>\n",
       "                        <td id=\"T_35cc6c56_c53a_11e9_8ce0_a0999b083af9row0_col0\" class=\"data row0 col0\" >12</td>\n",
       "                        <td id=\"T_35cc6c56_c53a_11e9_8ce0_a0999b083af9row0_col1\" class=\"data row0 col1\" >$4.23</td>\n",
       "                        <td id=\"T_35cc6c56_c53a_11e9_8ce0_a0999b083af9row0_col2\" class=\"data row0 col2\" >$50.76</td>\n",
       "            </tr>\n",
       "            <tr>\n",
       "                        <th id=\"T_35cc6c56_c53a_11e9_8ce0_a0999b083af9level0_row1\" class=\"row_heading level0 row1\" >82</th>\n",
       "                        <th id=\"T_35cc6c56_c53a_11e9_8ce0_a0999b083af9level1_row1\" class=\"row_heading level1 row1\" >Nirvana</th>\n",
       "                        <td id=\"T_35cc6c56_c53a_11e9_8ce0_a0999b083af9row1_col0\" class=\"data row1 col0\" >9</td>\n",
       "                        <td id=\"T_35cc6c56_c53a_11e9_8ce0_a0999b083af9row1_col1\" class=\"data row1 col1\" >$4.90</td>\n",
       "                        <td id=\"T_35cc6c56_c53a_11e9_8ce0_a0999b083af9row1_col2\" class=\"data row1 col2\" >$44.10</td>\n",
       "            </tr>\n",
       "            <tr>\n",
       "                        <th id=\"T_35cc6c56_c53a_11e9_8ce0_a0999b083af9level0_row2\" class=\"row_heading level0 row2\" >145</th>\n",
       "                        <th id=\"T_35cc6c56_c53a_11e9_8ce0_a0999b083af9level1_row2\" class=\"row_heading level1 row2\" >Fiery Glass Crusader</th>\n",
       "                        <td id=\"T_35cc6c56_c53a_11e9_8ce0_a0999b083af9row2_col0\" class=\"data row2 col0\" >9</td>\n",
       "                        <td id=\"T_35cc6c56_c53a_11e9_8ce0_a0999b083af9row2_col1\" class=\"data row2 col1\" >$4.58</td>\n",
       "                        <td id=\"T_35cc6c56_c53a_11e9_8ce0_a0999b083af9row2_col2\" class=\"data row2 col2\" >$41.22</td>\n",
       "            </tr>\n",
       "            <tr>\n",
       "                        <th id=\"T_35cc6c56_c53a_11e9_8ce0_a0999b083af9level0_row3\" class=\"row_heading level0 row3\" >92</th>\n",
       "                        <th id=\"T_35cc6c56_c53a_11e9_8ce0_a0999b083af9level1_row3\" class=\"row_heading level1 row3\" >Final Critic</th>\n",
       "                        <td id=\"T_35cc6c56_c53a_11e9_8ce0_a0999b083af9row3_col0\" class=\"data row3 col0\" >8</td>\n",
       "                        <td id=\"T_35cc6c56_c53a_11e9_8ce0_a0999b083af9row3_col1\" class=\"data row3 col1\" >$4.88</td>\n",
       "                        <td id=\"T_35cc6c56_c53a_11e9_8ce0_a0999b083af9row3_col2\" class=\"data row3 col2\" >$39.04</td>\n",
       "            </tr>\n",
       "            <tr>\n",
       "                        <th id=\"T_35cc6c56_c53a_11e9_8ce0_a0999b083af9level0_row4\" class=\"row_heading level0 row4\" >103</th>\n",
       "                        <th id=\"T_35cc6c56_c53a_11e9_8ce0_a0999b083af9level1_row4\" class=\"row_heading level1 row4\" >Singed Scalpel</th>\n",
       "                        <td id=\"T_35cc6c56_c53a_11e9_8ce0_a0999b083af9row4_col0\" class=\"data row4 col0\" >8</td>\n",
       "                        <td id=\"T_35cc6c56_c53a_11e9_8ce0_a0999b083af9row4_col1\" class=\"data row4 col1\" >$4.35</td>\n",
       "                        <td id=\"T_35cc6c56_c53a_11e9_8ce0_a0999b083af9row4_col2\" class=\"data row4 col2\" >$34.80</td>\n",
       "            </tr>\n",
       "    </tbody></table>"
      ],
      "text/plain": [
       "<pandas.io.formats.style.Styler at 0x115352668>"
      ]
     },
     "execution_count": 40,
     "metadata": {},
     "output_type": "execute_result"
    }
   ],
   "source": []
  },
  {
   "cell_type": "code",
   "execution_count": null,
   "metadata": {},
   "outputs": [],
   "source": []
  }
 ],
 "metadata": {
  "anaconda-cloud": {},
  "kernel_info": {
   "name": "python3"
  },
  "kernelspec": {
   "display_name": "Python 3",
   "language": "python",
   "name": "python3"
  },
  "language_info": {
   "codemirror_mode": {
    "name": "ipython",
    "version": 3
   },
   "file_extension": ".py",
   "mimetype": "text/x-python",
   "name": "python",
   "nbconvert_exporter": "python",
   "pygments_lexer": "ipython3",
   "version": "3.7.3"
  },
  "nteract": {
   "version": "0.2.0"
  }
 },
 "nbformat": 4,
 "nbformat_minor": 2
}
